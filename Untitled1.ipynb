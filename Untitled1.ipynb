{
  "nbformat": 4,
  "nbformat_minor": 0,
  "metadata": {
    "colab": {
      "provenance": []
    },
    "kernelspec": {
      "name": "python3",
      "display_name": "Python 3"
    },
    "language_info": {
      "name": "python"
    }
  },
  "cells": [
    {
      "cell_type": "markdown",
      "source": [],
      "metadata": {
        "id": "f2gNN3sl7EA1"
      }
    },
    {
      "cell_type": "code",
      "source": [
        "2 + 2 "
      ],
      "metadata": {
        "colab": {
          "base_uri": "https://localhost:8080/"
        },
        "id": "LUgIk4uq7F3s",
        "outputId": "44d12e39-f7c2-49b3-dd09-109a0a908e83"
      },
      "execution_count": 1,
      "outputs": [
        {
          "output_type": "execute_result",
          "data": {
            "text/plain": [
              "4"
            ]
          },
          "metadata": {},
          "execution_count": 1
        }
      ]
    },
    {
      "cell_type": "code",
      "source": [
        "name = \"jawad\"\n",
        "country = \"pakisan\"\n",
        "if name == \"jawad\" :\n",
        "  print(\"first if\")\n",
        "  if country == \"pakistan\" :\n",
        "    print(\"second if\")\n",
        "  else :\n",
        "    print(\"second else\")\n",
        "else :\n",
        "  print(\"first else\")"
      ],
      "metadata": {
        "colab": {
          "base_uri": "https://localhost:8080/"
        },
        "id": "Lo8xG2sRANQk",
        "outputId": "644cdb60-5508-4f4e-a761-d8055c24f1b0"
      },
      "execution_count": 4,
      "outputs": [
        {
          "output_type": "stream",
          "name": "stdout",
          "text": [
            "first if\n",
            "second else\n"
          ]
        }
      ]
    },
    {
      "cell_type": "code",
      "source": [],
      "metadata": {
        "id": "sMqcPQa9Pj5j"
      },
      "execution_count": null,
      "outputs": []
    }
  ]
}